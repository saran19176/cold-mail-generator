{
 "cells": [
  {
   "cell_type": "code",
   "execution_count": 10,
   "id": "6d702aa7-3e1f-4ea7-9f4e-f8ae9fc86405",
   "metadata": {},
   "outputs": [
    {
     "name": "stdout",
     "output_type": "stream",
     "text": [
      "The first person to land on the moon was Neil Armstrong. He stepped out of the lunar module Eagle and onto the moon's surface on July 20, 1969, during the Apollo 11 mission. Armstrong famously declared, \"That's one small step for man, one giant leap for mankind,\" as he became the first human to set foot on the moon.\n"
     ]
    }
   ],
   "source": [
    "from langchain_groq import ChatGroq\n",
    "\n",
    "llm = ChatGroq(\n",
    "    model=\"llama-3.1-8b-instant\",\n",
    "    temperature=0,\n",
    "    groq_api_key='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'\n",
    ")\n",
    "respon = llm.invoke(\"The first person to land on the moon was...\")\n",
    "print(respon.content)"
   ]
  },
  {
   "cell_type": "code",
   "execution_count": 4,
   "id": "f1a9d7df-fbdd-4a1f-814b-c9528d6d066b",
   "metadata": {},
   "outputs": [
    {
     "name": "stderr",
     "output_type": "stream",
     "text": [
      "USER_AGENT environment variable not set, consider setting it to identify your requests.\n"
     ]
    },
    {
     "name": "stdout",
     "output_type": "stream",
     "text": [
      "Software Development Engineer, FinTech - Job ID: 2862181 | Amazon.jobs\n",
      "Skip to main contentHomeTeamsLocationsJob categoriesMy careerMy applicationsMy profileAccount securitySettingsSign outResourcesDisability accommodationsBenefitsInclusive experiencesInterview tipsLeadership principlesWorking at AmazonFAQ×Software Development Engineer, FinTechJob ID: 2862181 | ADCI HYD 13 SEZApply nowDESCRIPTIONAre you interested in building high-performance, globally scalable Financial systems that support Amazon's current and future growth? Are you seeking an environment where you can drive innovation leveraging the scalability and innovation with Amazon's AWS cloud services? Do you have a passion for ensuring a positive customer experience? This is the job for you.Amazon Financial Technology Team is looking for a results-oriented, driven software development engineer, who can help us create the next generation of distributed, scalable financial systems. Our ideal candidate thrives in a fast-paced environment, enjoys the challenge of highly complex business contexts that are typically being defined in real-time. We need someone to design and develop services that facilitate global financial transactions worth billions (USD) annually.A Software Development Engineer (SDE) at Amazon works on real world problems on a global scale, owns their systems end to end and influences the direction of our technology that impacts hundreds of millions of customers around the world. You can expect to design flexible and scalable solutions, and work on some of the most complex challenges in large-scale computing by utilizing your skills in data structures, algorithms, and object oriented programming. Coming to Amazon gives you the opportunity to work on a small development team in one of our many rapidly growing organizations.You will learn all about how to design, implement and test highly scalable solutions using AWS cloud platform and its many products, in challenging agile projects, working with best in class professionals.In this role you will:Deliver a Best-in-Class customer experience by continuously improving platform, code and services that enable receivables globallyBuild services/integration for Financial ApplicationsDesign and Develop Best integration patterns for our system. Leverage and integrate with different tools, technologies and products within Amazon to reduce operational cost and enhance customer experiencePartner directly with other Software Development Engineers (SDEs), Technical Program Managers, Functional Analysts and Customers to understand features and continuously identify opportunities to build and deploy software solutions.Key job responsibilities- Define high level and low level design for software solutions using the latest AWS technology in a large distributed environment.- Take the lead on defining and implementing engineering best practices and using data to define and improve operational best practices.- Help drive the architecture and technology choices for FinTech accounting products.- Design, develop and deploy medium to large software solutions for Amazon accounting needs.- Raise the bar on code quality, including security, readability, consistency, maintainability.BASIC QUALIFICATIONS- 3+ years of non-internship professional software development experience- 2+ years of non-internship design or architecture (design patterns, reliability and scaling) of new and existing systems experience- 3+ years of Video Games Industry (supporting title Development, Release, or Live Ops) experience- Experience programming with at least one software programming languagePREFERRED QUALIFICATIONS- 3+ years of full software development life cycle, including coding standards, code reviews, source control management, build processes, testing, and operations experience- Bachelor's degree in computer science or equivalentOur inclusive culture empowers Amazonians to deliver the best results for our customers. If you have a disability and need a workplace accommodation or adjustment during the application and hiring process, including support for the interview or onboarding process, please visit https://amazon.jobs/content/en/how-we-hire/accommodations for more information. If the country/region you’re applying in isn’t listed, please contact your Recruiting Partner.Job detailsIND, TS, HyderabadFinance TechSoftware DevelopmentShare this jobJOIN US ONFind CareersJob CategoriesTeamsLocationsUS and EU Military recruitingWarehouse and Hourly JobsWorking At AmazonCultureBenefitsAmazon NewsletterDiversity at AmazonOur leadership principlesHelpFAQInterview tipsReview application statusDisability accommodationsLegal disclosures and noticesAmazon is committed to a diverse and inclusive workplace. Amazon is an equal opportunity employer and does not discriminate on the basis of race, national origin, gender, gender identity, sexual orientation, protected veteran status, disability, age, or other legally protected status.Privacy and DataImpressum© 1996-2025, Amazon.com, Inc. or its affiliates\n"
     ]
    }
   ],
   "source": [
    "from langchain_community.document_loaders import WebBaseLoader\n",
    "\n",
    "loader = WebBaseLoader(\"https://www.amazon.jobs/en/jobs/2862181/software-development-engineer-fintech\")\n",
    "page_data = loader.load().pop().page_content\n",
    "print(page_data)"
   ]
  },
  {
   "cell_type": "code",
   "execution_count": 40,
   "id": "348b5453-88a8-4182-acbb-1bc5aacb21d6",
   "metadata": {},
   "outputs": [
    {
     "name": "stdout",
     "output_type": "stream",
     "text": [
      "```json\n",
      "{\n",
      "  \"role\": \"Software Development Engineer, FinTech\",\n",
      "  \"experience\": {\n",
      "    \"basic\": {\n",
      "      \"years\": 3,\n",
      "      \"qualifications\": [\n",
      "        \"non-internship professional software development experience\",\n",
      "        \"2+ years of non-internship design or architecture (design patterns, reliability and scaling) of new and existing systems experience\",\n",
      "        \"3+ years of Video Games Industry (supporting title Development, Release, or Live Ops) experience\",\n",
      "        \"Experience programming with at least one software programming language\"\n",
      "      ]\n",
      "    },\n",
      "    \"preferred\": {\n",
      "      \"years\": 3,\n",
      "      \"qualifications\": [\n",
      "        \"full software development life cycle, including coding standards, code reviews, source control management, build processes, testing, and operations experience\",\n",
      "        \"Bachelor's degree in computer science or equivalent\"\n",
      "      ]\n",
      "    }\n",
      "  },\n",
      "  \"skills\": {\n",
      "    \"programming_languages\": [\"at least one software programming language\"],\n",
      "    \"experience\": [\n",
      "      \"design or architecture (design patterns, reliability and scaling) of new and existing systems\",\n",
      "      \"Video Games Industry (supporting title Development, Release, or Live Ops)\",\n",
      "      \"full software development life cycle, including coding standards, code reviews, source control management, build processes, testing, and operations\"\n",
      "    ]\n",
      "  },\n",
      "  \"description\": \"Are you interested in building high-performance, globally scalable Financial systems that support Amazon's current and future growth? Are you seeking an environment where you can drive innovation leveraging the scalability and innovation with Amazon's AWS cloud services? Do you have a passion for ensuring a positive customer experience? This is the job for you.\"\n",
      "}\n",
      "```\n",
      "\n",
      "Note: The extracted information is based on the provided text and might not be comprehensive or up-to-date. The extracted JSON object represents the job posting for the \"Software Development Engineer, FinTech\" role. The \"experience\" section is divided into \"basic\" and \"preferred\" qualifications, and the \"skills\" section includes the required programming languages and relevant experience. The \"description\" field contains a brief summary of the job responsibilities and requirements.\n"
     ]
    }
   ],
   "source": [
    "from langchain_core.prompts import PromptTemplate\n",
    "prompt_extract = PromptTemplate.from_template(\n",
    "    \"\"\"\n",
    "        ### SCRAPED TEXT FROM WEBSITE:\n",
    "        {page_data}\n",
    "        ### INSTRUCTION:\n",
    "        The scraped text is from the career's page of a website.\n",
    "        Your job is to extract the job postings and return them in JSON format containing the \n",
    "        following keys: `role`, `experience`, `skills` and `description`.\n",
    "        Only return the valid JSON.\n",
    "        ### VALID JSON (NO PREAMBLE):    \n",
    "        \"\"\"\n",
    ")\n",
    "\n",
    "chain_extract = prompt_extract | llm\n",
    "res = chain_extract.invoke(input={'page_data' : page_data})\n",
    "print(res.content)"
   ]
  },
  {
   "cell_type": "code",
   "execution_count": 14,
   "id": "4755cc70-457a-454e-9d03-b8c5f0fc4fd7",
   "metadata": {
    "collapsed": true,
    "jupyter": {
     "outputs_hidden": true
    }
   },
   "outputs": [
    {
     "data": {
      "text/html": [
       "<div>\n",
       "<style scoped>\n",
       "    .dataframe tbody tr th:only-of-type {\n",
       "        vertical-align: middle;\n",
       "    }\n",
       "\n",
       "    .dataframe tbody tr th {\n",
       "        vertical-align: top;\n",
       "    }\n",
       "\n",
       "    .dataframe thead th {\n",
       "        text-align: right;\n",
       "    }\n",
       "</style>\n",
       "<table border=\"1\" class=\"dataframe\">\n",
       "  <thead>\n",
       "    <tr style=\"text-align: right;\">\n",
       "      <th></th>\n",
       "      <th>Techstack</th>\n",
       "      <th>Links</th>\n",
       "    </tr>\n",
       "  </thead>\n",
       "  <tbody>\n",
       "    <tr>\n",
       "      <th>0</th>\n",
       "      <td>React, Node.js, MongoDB</td>\n",
       "      <td>https://example.com/react-portfolio</td>\n",
       "    </tr>\n",
       "    <tr>\n",
       "      <th>1</th>\n",
       "      <td>Angular,.NET, SQL Server</td>\n",
       "      <td>https://example.com/angular-portfolio</td>\n",
       "    </tr>\n",
       "    <tr>\n",
       "      <th>2</th>\n",
       "      <td>Vue.js, Ruby on Rails, PostgreSQL</td>\n",
       "      <td>https://example.com/vue-portfolio</td>\n",
       "    </tr>\n",
       "    <tr>\n",
       "      <th>3</th>\n",
       "      <td>Python, Django, MySQL</td>\n",
       "      <td>https://example.com/python-portfolio</td>\n",
       "    </tr>\n",
       "    <tr>\n",
       "      <th>4</th>\n",
       "      <td>Java, Spring Boot, Oracle</td>\n",
       "      <td>https://example.com/java-portfolio</td>\n",
       "    </tr>\n",
       "    <tr>\n",
       "      <th>5</th>\n",
       "      <td>Flutter, Firebase, GraphQL</td>\n",
       "      <td>https://example.com/flutter-portfolio</td>\n",
       "    </tr>\n",
       "    <tr>\n",
       "      <th>6</th>\n",
       "      <td>WordPress, PHP, MySQL</td>\n",
       "      <td>https://example.com/wordpress-portfolio</td>\n",
       "    </tr>\n",
       "    <tr>\n",
       "      <th>7</th>\n",
       "      <td>Magento, PHP, MySQL</td>\n",
       "      <td>https://example.com/magento-portfolio</td>\n",
       "    </tr>\n",
       "    <tr>\n",
       "      <th>8</th>\n",
       "      <td>React Native, Node.js, MongoDB</td>\n",
       "      <td>https://example.com/react-native-portfolio</td>\n",
       "    </tr>\n",
       "    <tr>\n",
       "      <th>9</th>\n",
       "      <td>iOS, Swift, Core Data</td>\n",
       "      <td>https://example.com/ios-portfolio</td>\n",
       "    </tr>\n",
       "    <tr>\n",
       "      <th>10</th>\n",
       "      <td>Android, Java, Room Persistence</td>\n",
       "      <td>https://example.com/android-portfolio</td>\n",
       "    </tr>\n",
       "    <tr>\n",
       "      <th>11</th>\n",
       "      <td>Kotlin, Android, Firebase</td>\n",
       "      <td>https://example.com/kotlin-android-portfolio</td>\n",
       "    </tr>\n",
       "    <tr>\n",
       "      <th>12</th>\n",
       "      <td>Android TV, Kotlin, Android NDK</td>\n",
       "      <td>https://example.com/android-tv-portfolio</td>\n",
       "    </tr>\n",
       "    <tr>\n",
       "      <th>13</th>\n",
       "      <td>iOS, Swift, ARKit</td>\n",
       "      <td>https://example.com/ios-ar-portfolio</td>\n",
       "    </tr>\n",
       "    <tr>\n",
       "      <th>14</th>\n",
       "      <td>Cross-platform, Xamarin, Azure</td>\n",
       "      <td>https://example.com/xamarin-portfolio</td>\n",
       "    </tr>\n",
       "    <tr>\n",
       "      <th>15</th>\n",
       "      <td>Backend, Kotlin, Spring Boot</td>\n",
       "      <td>https://example.com/kotlin-backend-portfolio</td>\n",
       "    </tr>\n",
       "    <tr>\n",
       "      <th>16</th>\n",
       "      <td>Frontend, TypeScript, Angular</td>\n",
       "      <td>https://example.com/typescript-frontend-portfolio</td>\n",
       "    </tr>\n",
       "    <tr>\n",
       "      <th>17</th>\n",
       "      <td>Full-stack, JavaScript, Express.js</td>\n",
       "      <td>https://example.com/full-stack-js-portfolio</td>\n",
       "    </tr>\n",
       "    <tr>\n",
       "      <th>18</th>\n",
       "      <td>Machine Learning, Python, TensorFlow</td>\n",
       "      <td>https://example.com/ml-python-portfolio</td>\n",
       "    </tr>\n",
       "    <tr>\n",
       "      <th>19</th>\n",
       "      <td>DevOps, Jenkins, Docker</td>\n",
       "      <td>https://example.com/devops-portfolio</td>\n",
       "    </tr>\n",
       "  </tbody>\n",
       "</table>\n",
       "</div>"
      ],
      "text/plain": [
       "                               Techstack  \\\n",
       "0                React, Node.js, MongoDB   \n",
       "1               Angular,.NET, SQL Server   \n",
       "2      Vue.js, Ruby on Rails, PostgreSQL   \n",
       "3                  Python, Django, MySQL   \n",
       "4              Java, Spring Boot, Oracle   \n",
       "5             Flutter, Firebase, GraphQL   \n",
       "6                  WordPress, PHP, MySQL   \n",
       "7                    Magento, PHP, MySQL   \n",
       "8         React Native, Node.js, MongoDB   \n",
       "9                  iOS, Swift, Core Data   \n",
       "10       Android, Java, Room Persistence   \n",
       "11             Kotlin, Android, Firebase   \n",
       "12       Android TV, Kotlin, Android NDK   \n",
       "13                     iOS, Swift, ARKit   \n",
       "14        Cross-platform, Xamarin, Azure   \n",
       "15          Backend, Kotlin, Spring Boot   \n",
       "16         Frontend, TypeScript, Angular   \n",
       "17    Full-stack, JavaScript, Express.js   \n",
       "18  Machine Learning, Python, TensorFlow   \n",
       "19               DevOps, Jenkins, Docker   \n",
       "\n",
       "                                                Links  \n",
       "0                 https://example.com/react-portfolio  \n",
       "1               https://example.com/angular-portfolio  \n",
       "2                   https://example.com/vue-portfolio  \n",
       "3                https://example.com/python-portfolio  \n",
       "4                  https://example.com/java-portfolio  \n",
       "5               https://example.com/flutter-portfolio  \n",
       "6             https://example.com/wordpress-portfolio  \n",
       "7               https://example.com/magento-portfolio  \n",
       "8          https://example.com/react-native-portfolio  \n",
       "9                   https://example.com/ios-portfolio  \n",
       "10              https://example.com/android-portfolio  \n",
       "11       https://example.com/kotlin-android-portfolio  \n",
       "12           https://example.com/android-tv-portfolio  \n",
       "13               https://example.com/ios-ar-portfolio  \n",
       "14              https://example.com/xamarin-portfolio  \n",
       "15       https://example.com/kotlin-backend-portfolio  \n",
       "16  https://example.com/typescript-frontend-portfolio  \n",
       "17        https://example.com/full-stack-js-portfolio  \n",
       "18            https://example.com/ml-python-portfolio  \n",
       "19               https://example.com/devops-portfolio  "
      ]
     },
     "execution_count": 14,
     "metadata": {},
     "output_type": "execute_result"
    }
   ],
   "source": [
    "import pandas as pd\n",
    "\n",
    "df = pd.read_csv(\"my_portfolio.csv\")\n",
    "df"
   ]
  },
  {
   "cell_type": "code",
   "execution_count": 16,
   "id": "49de0fd3-a9ac-4794-82bf-f49db9a82b7c",
   "metadata": {},
   "outputs": [
    {
     "data": {
      "text/plain": [
       "{'role': 'Software Development Engineer, FinTech',\n",
       " 'experience': {'basic': {'years': 3,\n",
       "   'qualifications': ['non-internship professional software development experience',\n",
       "    '2+ years of non-internship design or architecture (design patterns, reliability and scaling) of new and existing systems experience',\n",
       "    '3+ years of Video Games Industry (supporting title Development, Release, or Live Ops) experience',\n",
       "    'Experience programming with at least one software programming language']},\n",
       "  'preferred': {'years': 3,\n",
       "   'qualifications': ['full software development life cycle, including coding standards, code reviews, source control management, build processes, testing, and operations experience',\n",
       "    \"Bachelor's degree in computer science or equivalent\"]}},\n",
       " 'skills': {'programming_languages': ['at least one software programming language'],\n",
       "  'experience': ['design or architecture (design patterns, reliability and scaling) of new and existing systems',\n",
       "   'Video Games Industry (supporting title Development, Release, or Live Ops)',\n",
       "   'full software development life cycle, including coding standards, code reviews, source control management, build processes, testing, and operations']},\n",
       " 'description': \"Are you interested in building high-performance, globally scalable Financial systems that support Amazon's current and future growth? Are you seeking an environment where you can drive innovation leveraging the scalability and innovation with Amazon's AWS cloud services? Do you have a passion for ensuring a positive customer experience? This is the job for you.\"}"
      ]
     },
     "execution_count": 16,
     "metadata": {},
     "output_type": "execute_result"
    }
   ],
   "source": [
    "from langchain_core.output_parsers import JsonOutputParser\n",
    "\n",
    "json_parser = JsonOutputParser()\n",
    "json_res = json_parser.parse(res.content)\n",
    "json_res"
   ]
  },
  {
   "cell_type": "code",
   "execution_count": 18,
   "id": "7818e0c1-3237-4546-8e9a-0ca6aab5956e",
   "metadata": {},
   "outputs": [],
   "source": [
    "import uuid\n",
    "import chromadb\n",
    "\n",
    "client = chromadb.PersistentClient('vectorstore')\n",
    "collection = client.get_or_create_collection(name=\"portfolio\")\n",
    "\n",
    "if not collection.count():\n",
    "    for _, row in df.iterrows():\n",
    "        collection.add(documents=row[\"Techstack\"],\n",
    "                       metadatas={\"links\": row[\"Links\"]},\n",
    "                       ids=[str(uuid.uuid4())])"
   ]
  },
  {
   "cell_type": "code",
   "execution_count": 36,
   "id": "a14ddc5c-3748-4ab2-aeb0-37202a125c75",
   "metadata": {},
   "outputs": [
    {
     "data": {
      "text/plain": [
       "[[{'links': 'https://example.com/ml-python-portfolio'},\n",
       "  {'links': 'https://example.com/python-portfolio'}],\n",
       " [{'links': 'https://example.com/react-portfolio'},\n",
       "  {'links': 'https://example.com/react-native-portfolio'}]]"
      ]
     },
     "execution_count": 36,
     "metadata": {},
     "output_type": "execute_result"
    }
   ],
   "source": [
    "links = collection.query(query_texts=['Experience in python', \"Experience in react\"], n_results=2).get('metadatas', [])\n",
    "links"
   ]
  },
  {
   "cell_type": "code",
   "execution_count": 22,
   "id": "1ee26597-bfcc-46fe-b93d-bf6e02359237",
   "metadata": {},
   "outputs": [
    {
     "data": {
      "text/plain": [
       "str"
      ]
     },
     "execution_count": 22,
     "metadata": {},
     "output_type": "execute_result"
    }
   ],
   "source": [
    "type('skills')"
   ]
  },
  {
   "cell_type": "code",
   "execution_count": 24,
   "id": "acb777d2-6e90-4501-9a8a-2ba5fef7a30f",
   "metadata": {},
   "outputs": [
    {
     "data": {
      "text/plain": [
       "dict"
      ]
     },
     "execution_count": 24,
     "metadata": {},
     "output_type": "execute_result"
    }
   ],
   "source": [
    "type(json_res)"
   ]
  },
  {
   "cell_type": "code",
   "execution_count": 44,
   "id": "56e880fc-6d9c-441d-b472-c8b373e3bfb3",
   "metadata": {
    "scrolled": true
   },
   "outputs": [
    {
     "data": {
      "text/plain": [
       "{'role': 'Software Development Engineer, FinTech',\n",
       " 'experience': {'basic': {'years': 3,\n",
       "   'qualifications': ['non-internship professional software development experience',\n",
       "    '2+ years of non-internship design or architecture (design patterns, reliability and scaling) of new and existing systems experience',\n",
       "    '3+ years of Video Games Industry (supporting title Development, Release, or Live Ops) experience',\n",
       "    'Experience programming with at least one software programming language']},\n",
       "  'preferred': {'years': 3,\n",
       "   'qualifications': ['full software development life cycle, including coding standards, code reviews, source control management, build processes, testing, and operations experience',\n",
       "    \"Bachelor's degree in computer science or equivalent\"]}},\n",
       " 'skills': {'programming_languages': ['at least one software programming language'],\n",
       "  'experience': ['design or architecture (design patterns, reliability and scaling) of new and existing systems',\n",
       "   'Video Games Industry (supporting title Development, Release, or Live Ops)',\n",
       "   'full software development life cycle, including coding standards, code reviews, source control management, build processes, testing, and operations']},\n",
       " 'description': \"Are you interested in building high-performance, globally scalable Financial systems that support Amazon's current and future growth? Are you seeking an environment where you can drive innovation leveraging the scalability and innovation with Amazon's AWS cloud services? Do you have a passion for ensuring a positive customer experience? This is the job for you.\"}"
      ]
     },
     "execution_count": 44,
     "metadata": {},
     "output_type": "execute_result"
    }
   ],
   "source": [
    "job"
   ]
  },
  {
   "cell_type": "code",
   "execution_count": 32,
   "id": "72a827fb-a5fb-4185-be23-1655ef77d1fc",
   "metadata": {},
   "outputs": [
    {
     "name": "stdout",
     "output_type": "stream",
     "text": [
      "Subject: Unlock Your FinTech Potential with AtliQ\n",
      "\n",
      "Dear Hiring Manager,\n",
      "\n",
      "I came across the job description for a Software Development Engineer, FinTech at Amazon, and I was impressed by the exciting opportunity to build high-performance, globally scalable Financial systems. As a Business Development Executive at AtliQ, an AI & Software Consulting company, I'd like to introduce you to our capabilities in fulfilling your needs.\n",
      "\n",
      "AtliQ has a proven track record of empowering enterprises with tailored solutions, fostering scalability, process optimization, cost reduction, and heightened overall efficiency. Our expertise spans a wide range of technologies, including machine learning, Python, React, and React Native.\n",
      "\n",
      "I'd like to highlight a few relevant projects from our portfolio that demonstrate our capabilities in FinTech and software development:\n",
      "\n",
      "- **Machine Learning with Python**: Check out our portfolio on machine learning with Python at [https://example.com/ml-python-portfolio](https://example.com/ml-python-portfolio). This project showcases our expertise in building predictive models and integrating them with financial systems.\n",
      "- **Python Development**: Our Python portfolio at [https://example.com/python-portfolio](https://example.com/python-portfolio) features a range of projects, including data analysis, web development, and automation. These projects demonstrate our ability to deliver scalable and efficient solutions.\n",
      "- **React and React Native Development**: For a glimpse into our expertise in building user-friendly and scalable front-end applications, please visit our React portfolio at [https://example.com/react-portfolio](https://example.com/react-portfolio) and React Native portfolio at [https://example.com/react-native-portfolio](https://example.com/react-native-portfolio).\n",
      "\n",
      "AtliQ's team of experts can help you drive innovation, leverage the scalability and innovation of Amazon's AWS cloud services, and ensure a positive customer experience. We'd be delighted to discuss how our capabilities align with your needs and explore potential collaboration opportunities.\n",
      "\n",
      "Please feel free to reach out to me directly to schedule a call and learn more about how AtliQ can support your FinTech endeavors.\n",
      "\n",
      "Best regards,\n",
      "\n",
      "Mohan\n",
      "Business Development Executive\n",
      "AtliQ\n"
     ]
    }
   ],
   "source": [
    "prompt_email = PromptTemplate.from_template(\n",
    "        \"\"\"\n",
    "        ### JOB DESCRIPTION:\n",
    "        {job_description}\n",
    "        \n",
    "        ### INSTRUCTION:\n",
    "        You are Mohan, a business development executive at AtliQ. AtliQ is an AI & Software Consulting company dedicated to facilitating\n",
    "        the seamless integration of business processes through automated tools. \n",
    "        Over our experience, we have empowered numerous enterprises with tailored solutions, fostering scalability, \n",
    "        process optimization, cost reduction, and heightened overall efficiency. \n",
    "        Your job is to write a cold email to the client regarding the job mentioned above describing the capability of AtliQ \n",
    "        in fulfilling their needs.\n",
    "        Also add the most relevant ones from the following links to showcase Atliq's portfolio: {link_list}\n",
    "        Remember you are Mohan, BDE at AtliQ. \n",
    "        Do not provide a preamble.\n",
    "        ### EMAIL (NO PREAMBLE):\n",
    "        \n",
    "        \"\"\"\n",
    "        )\n",
    "\n",
    "chain_email = prompt_email | llm\n",
    "res = chain_email.invoke({\"job_description\": str(job), \"link_list\": links})\n",
    "print(res.content)"
   ]
  },
  {
   "cell_type": "code",
   "execution_count": null,
   "id": "86fec5c5-8b0c-4294-92ba-909e80fe704e",
   "metadata": {},
   "outputs": [],
   "source": []
  }
 ],
 "metadata": {
  "kernelspec": {
   "display_name": "Python [conda env:base] *",
   "language": "python",
   "name": "conda-base-py"
  },
  "language_info": {
   "codemirror_mode": {
    "name": "ipython",
    "version": 3
   },
   "file_extension": ".py",
   "mimetype": "text/x-python",
   "name": "python",
   "nbconvert_exporter": "python",
   "pygments_lexer": "ipython3",
   "version": "3.12.7"
  }
 },
 "nbformat": 4,
 "nbformat_minor": 5
}
